{
 "cells": [
  {
   "cell_type": "code",
   "execution_count": 1,
   "metadata": {
    "colab": {
     "base_uri": "https://localhost:8080/"
    },
    "id": "6xPLLRAsep3r",
    "outputId": "c4f94502-b974-4023-c6a5-4a613a529eed"
   },
   "outputs": [
    {
     "name": "stdout",
     "output_type": "stream",
     "text": [
      "Requirement already satisfied: pgmpy in c:\\users\\vpb\\anaconda3\\lib\\site-packages (0.1.13)\n",
      "Requirement already satisfied: pandas in c:\\users\\vpb\\anaconda3\\lib\\site-packages (from pgmpy) (1.0.1)\n",
      "Requirement already satisfied: joblib in c:\\users\\vpb\\anaconda3\\lib\\site-packages (from pgmpy) (0.14.1)\n",
      "Requirement already satisfied: tqdm in c:\\users\\vpb\\anaconda3\\lib\\site-packages (from pgmpy) (4.42.1)\n",
      "Requirement already satisfied: pyparsing in c:\\users\\vpb\\anaconda3\\lib\\site-packages (from pgmpy) (2.4.6)\n",
      "Requirement already satisfied: scipy in c:\\users\\vpb\\anaconda3\\lib\\site-packages (from pgmpy) (1.4.1)\n",
      "Requirement already satisfied: statsmodels in c:\\users\\vpb\\anaconda3\\lib\\site-packages (from pgmpy) (0.11.0)\n",
      "Requirement already satisfied: scikit-learn in c:\\users\\vpb\\anaconda3\\lib\\site-packages (from pgmpy) (0.22.1)\n",
      "Requirement already satisfied: numpy in c:\\users\\vpb\\anaconda3\\lib\\site-packages (from pgmpy) (1.20.1)\n",
      "Requirement already satisfied: networkx in c:\\users\\vpb\\anaconda3\\lib\\site-packages (from pgmpy) (2.4)\n",
      "Requirement already satisfied: torch in c:\\users\\vpb\\anaconda3\\lib\\site-packages (from pgmpy) (1.8.0)\n",
      "Requirement already satisfied: pytz>=2017.2 in c:\\users\\vpb\\anaconda3\\lib\\site-packages (from pandas->pgmpy) (2019.3)\n",
      "Requirement already satisfied: python-dateutil>=2.6.1 in c:\\users\\vpb\\anaconda3\\lib\\site-packages (from pandas->pgmpy) (2.8.1)\n",
      "Requirement already satisfied: patsy>=0.5 in c:\\users\\vpb\\anaconda3\\lib\\site-packages (from statsmodels->pgmpy) (0.5.1)\n",
      "Requirement already satisfied: decorator>=4.3.0 in c:\\users\\vpb\\anaconda3\\lib\\site-packages (from networkx->pgmpy) (4.4.1)\n",
      "Requirement already satisfied: typing-extensions in c:\\users\\vpb\\anaconda3\\lib\\site-packages (from torch->pgmpy) (3.7.4.3)\n",
      "Requirement already satisfied: six>=1.5 in c:\\users\\vpb\\anaconda3\\lib\\site-packages (from python-dateutil>=2.6.1->pandas->pgmpy) (1.14.0)\n"
     ]
    }
   ],
   "source": [
    "# Download the binaries required\n",
    "!pip install pgmpy"
   ]
  },
  {
   "cell_type": "code",
   "execution_count": 2,
   "metadata": {
    "id": "MQOZX9HHeoNo"
   },
   "outputs": [],
   "source": [
    "import pandas as pd\n",
    "import numpy as np\n",
    "from pgmpy.models import BayesianModel\n",
    "from sklearn.preprocessing import MinMaxScaler"
   ]
  },
  {
   "cell_type": "code",
   "execution_count": 3,
   "metadata": {
    "colab": {
     "base_uri": "https://localhost:8080/",
     "height": 246
    },
    "id": "2ef3BsZ2eoN4",
    "outputId": "213d71ed-2376-4680-ba55-d8322e7375c2"
   },
   "outputs": [
    {
     "name": "stdout",
     "output_type": "stream",
     "text": [
      "0    762\n",
      "1    610\n",
      "Name: class, dtype: int64\n"
     ]
    },
    {
     "data": {
      "text/html": [
       "<div>\n",
       "<style scoped>\n",
       "    .dataframe tbody tr th:only-of-type {\n",
       "        vertical-align: middle;\n",
       "    }\n",
       "\n",
       "    .dataframe tbody tr th {\n",
       "        vertical-align: top;\n",
       "    }\n",
       "\n",
       "    .dataframe thead th {\n",
       "        text-align: right;\n",
       "    }\n",
       "</style>\n",
       "<table border=\"1\" class=\"dataframe\">\n",
       "  <thead>\n",
       "    <tr style=\"text-align: right;\">\n",
       "      <th></th>\n",
       "      <th>variance</th>\n",
       "      <th>skewness</th>\n",
       "      <th>curtosis</th>\n",
       "      <th>entropy</th>\n",
       "    </tr>\n",
       "  </thead>\n",
       "  <tbody>\n",
       "    <tr>\n",
       "      <th>0</th>\n",
       "      <td>0.769004</td>\n",
       "      <td>0.839643</td>\n",
       "      <td>0.106783</td>\n",
       "      <td>0.736628</td>\n",
       "    </tr>\n",
       "    <tr>\n",
       "      <th>1</th>\n",
       "      <td>0.835659</td>\n",
       "      <td>0.820982</td>\n",
       "      <td>0.121804</td>\n",
       "      <td>0.644326</td>\n",
       "    </tr>\n",
       "    <tr>\n",
       "      <th>2</th>\n",
       "      <td>0.786629</td>\n",
       "      <td>0.416648</td>\n",
       "      <td>0.310608</td>\n",
       "      <td>0.786951</td>\n",
       "    </tr>\n",
       "    <tr>\n",
       "      <th>3</th>\n",
       "      <td>0.757105</td>\n",
       "      <td>0.871699</td>\n",
       "      <td>0.054921</td>\n",
       "      <td>0.450440</td>\n",
       "    </tr>\n",
       "    <tr>\n",
       "      <th>4</th>\n",
       "      <td>0.531578</td>\n",
       "      <td>0.348662</td>\n",
       "      <td>0.424662</td>\n",
       "      <td>0.687362</td>\n",
       "    </tr>\n",
       "  </tbody>\n",
       "</table>\n",
       "</div>"
      ],
      "text/plain": [
       "   variance  skewness  curtosis   entropy\n",
       "0  0.769004  0.839643  0.106783  0.736628\n",
       "1  0.835659  0.820982  0.121804  0.644326\n",
       "2  0.786629  0.416648  0.310608  0.786951\n",
       "3  0.757105  0.871699  0.054921  0.450440\n",
       "4  0.531578  0.348662  0.424662  0.687362"
      ]
     },
     "execution_count": 3,
     "metadata": {},
     "output_type": "execute_result"
    }
   ],
   "source": [
    "names = \"variance,skewness,curtosis,entropy,class\"\n",
    "names = names.split(',')\n",
    "data = pd.read_csv('data_banknote_authentication.txt', header=None)\n",
    "data.columns = names\n",
    "print(data[\"class\"].value_counts())\n",
    "features = ['variance', 'skewness', 'curtosis', 'entropy']\n",
    "scaler = MinMaxScaler().fit(data[features])\n",
    "x_scaled = scaler.transform(data[features])\n",
    "df = pd.DataFrame(x_scaled, columns = features)\n",
    "df.head()"
   ]
  },
  {
   "cell_type": "code",
   "execution_count": 4,
   "metadata": {
    "id": "usrlrukhe_jU"
   },
   "outputs": [],
   "source": [
    "df[\"class\"] = data[\"class\"]"
   ]
  },
  {
   "cell_type": "code",
   "execution_count": 5,
   "metadata": {
    "colab": {
     "base_uri": "https://localhost:8080/"
    },
    "id": "BiCwSxgSeoN5",
    "outputId": "078ede73-62d1-443d-bee1-22faa46f3878"
   },
   "outputs": [],
   "source": [
    "# 1. Construct a Bayesian Belief Network for the given data.\n",
    "model = BayesianModel([(\"entropy\",\"variance\"), (\"entropy\",\"skewness\"), (\"entropy\",\"curtosis\"), (\"class\",\"entropy\")])\n",
    "model.fit(df)"
   ]
  },
  {
   "cell_type": "code",
   "execution_count": 6,
   "metadata": {
    "colab": {
     "base_uri": "https://localhost:8080/",
     "height": 127
    },
    "id": "wQHzroZMeoN6",
    "outputId": "1d106221-2f71-4040-8319-c2431a507dd1"
   },
   "outputs": [
    {
     "name": "stdout",
     "output_type": "stream",
     "text": [
      "   variance  skewness  curtosis   entropy\n",
      "0  0.769004  0.839643  0.106783  0.736628\n"
     ]
    },
    {
     "data": {
      "text/html": [
       "<div>\n",
       "<style scoped>\n",
       "    .dataframe tbody tr th:only-of-type {\n",
       "        vertical-align: middle;\n",
       "    }\n",
       "\n",
       "    .dataframe tbody tr th {\n",
       "        vertical-align: top;\n",
       "    }\n",
       "\n",
       "    .dataframe thead th {\n",
       "        text-align: right;\n",
       "    }\n",
       "</style>\n",
       "<table border=\"1\" class=\"dataframe\">\n",
       "  <thead>\n",
       "    <tr style=\"text-align: right;\">\n",
       "      <th></th>\n",
       "      <th>class_0</th>\n",
       "      <th>class_1</th>\n",
       "    </tr>\n",
       "  </thead>\n",
       "  <tbody>\n",
       "    <tr>\n",
       "      <th>0</th>\n",
       "      <td>0.5</td>\n",
       "      <td>0.5</td>\n",
       "    </tr>\n",
       "  </tbody>\n",
       "</table>\n",
       "</div>"
      ],
      "text/plain": [
       "   class_0  class_1\n",
       "0      0.5      0.5"
      ]
     },
     "execution_count": 6,
     "metadata": {},
     "output_type": "execute_result"
    }
   ],
   "source": [
    "# 2. Predict the probability of data having the following values:\n",
    "#Variance: 3.6216 , skewness: 8.6661, curtosis : -2.8073 , entropy : -0.44699, and the class is 0.\n",
    "\n",
    "predict_data_class_zero = np.array([[3.6216,8.6661,-2.8073,-0.44699]])\n",
    "x_scaled2 = scaler.transform(predict_data_class_zero)\n",
    "\n",
    "predict_df_class_zero = pd.DataFrame(x_scaled2, columns = ['variance', 'skewness', 'curtosis', 'entropy'])\n",
    "print(predict_df_class_zero)   \n",
    "#predict_df_class_zero.drop('class', axis = 1, inplace = True)\n",
    "y_prob_class_zero = model.predict_probability(predict_df_class_zero)\n",
    "y_prob_class_zero"
   ]
  },
  {
   "cell_type": "code",
   "execution_count": 7,
   "metadata": {
    "id": "pdZDgiD9eoN6"
   },
   "outputs": [
    {
     "name": "stdout",
     "output_type": "stream",
     "text": [
      "   variance  skewness  curtosis   entropy\n",
      "0  0.374864  0.191793  0.558541  0.716639\n"
     ]
    },
    {
     "data": {
      "text/html": [
       "<div>\n",
       "<style scoped>\n",
       "    .dataframe tbody tr th:only-of-type {\n",
       "        vertical-align: middle;\n",
       "    }\n",
       "\n",
       "    .dataframe tbody tr th {\n",
       "        vertical-align: top;\n",
       "    }\n",
       "\n",
       "    .dataframe thead th {\n",
       "        text-align: right;\n",
       "    }\n",
       "</style>\n",
       "<table border=\"1\" class=\"dataframe\">\n",
       "  <thead>\n",
       "    <tr style=\"text-align: right;\">\n",
       "      <th></th>\n",
       "      <th>class_0</th>\n",
       "      <th>class_1</th>\n",
       "    </tr>\n",
       "  </thead>\n",
       "  <tbody>\n",
       "    <tr>\n",
       "      <th>0</th>\n",
       "      <td>0.0</td>\n",
       "      <td>1.0</td>\n",
       "    </tr>\n",
       "  </tbody>\n",
       "</table>\n",
       "</div>"
      ],
      "text/plain": [
       "   class_0  class_1\n",
       "0      0.0      1.0"
      ]
     },
     "execution_count": 7,
     "metadata": {},
     "output_type": "execute_result"
    }
   ],
   "source": [
    "# 3. Predict the if the note is genuine or fake with the following attribute values: \n",
    "#Variance: -1.8439, skewness: -8.6475, curtosis : 7.6796 , entropy : -0.66682\n",
    "\n",
    "predict_data = np.array([[-1.8439,-8.6475,7.6796,-0.66682]])\n",
    "x_scaled1 = scaler.transform(predict_data)\n",
    "predict_df = pd.DataFrame(x_scaled1, columns = ['variance', 'skewness', 'curtosis', 'entropy'])\n",
    "print(predict_df)          \n",
    "#predict_df.drop('class', axis = 1, inplace = True)\n",
    "y_prob = model.predict_probability(predict_df)\n",
    "y_prob"
   ]
  },
  {
   "cell_type": "code",
   "execution_count": 8,
   "metadata": {},
   "outputs": [
    {
     "name": "stdout",
     "output_type": "stream",
     "text": [
      "   variance  skewness  curtosis  entropy\n",
      "0       0.0       0.0       0.0      0.0\n"
     ]
    },
    {
     "data": {
      "text/html": [
       "<div>\n",
       "<style scoped>\n",
       "    .dataframe tbody tr th:only-of-type {\n",
       "        vertical-align: middle;\n",
       "    }\n",
       "\n",
       "    .dataframe tbody tr th {\n",
       "        vertical-align: top;\n",
       "    }\n",
       "\n",
       "    .dataframe thead th {\n",
       "        text-align: right;\n",
       "    }\n",
       "</style>\n",
       "<table border=\"1\" class=\"dataframe\">\n",
       "  <thead>\n",
       "    <tr style=\"text-align: right;\">\n",
       "      <th></th>\n",
       "      <th>class_0</th>\n",
       "      <th>class_1</th>\n",
       "    </tr>\n",
       "  </thead>\n",
       "  <tbody>\n",
       "    <tr>\n",
       "      <th>0</th>\n",
       "      <td>1.0</td>\n",
       "      <td>0.0</td>\n",
       "    </tr>\n",
       "  </tbody>\n",
       "</table>\n",
       "</div>"
      ],
      "text/plain": [
       "   class_0  class_1\n",
       "0      1.0      0.0"
      ]
     },
     "execution_count": 8,
     "metadata": {},
     "output_type": "execute_result"
    }
   ],
   "source": [
    "#4.Infer the probability for the data : with values \n",
    "#a. 0 for all attributes and class 0 and \n",
    "\n",
    "predict_data_0 = np.array([[0.0,0.0,0.0,0.0]])\n",
    "predict_df_class_0 = pd.DataFrame(predict_data_0, columns = ['variance', 'skewness', 'curtosis', 'entropy'])\n",
    "print(predict_df_class_0)   \n",
    "# predict_df_class_zero.drop('class', axis = 1, inplace = True)\n",
    "y_prob_class_0 = model.predict_probability(predict_df_class_0)\n",
    "y_prob_class_0"
   ]
  },
  {
   "cell_type": "code",
   "execution_count": 9,
   "metadata": {},
   "outputs": [
    {
     "name": "stdout",
     "output_type": "stream",
     "text": [
      "   variance  skewness  curtosis  entropy\n",
      "0       1.0       1.0       1.0      1.0\n"
     ]
    },
    {
     "data": {
      "text/html": [
       "<div>\n",
       "<style scoped>\n",
       "    .dataframe tbody tr th:only-of-type {\n",
       "        vertical-align: middle;\n",
       "    }\n",
       "\n",
       "    .dataframe tbody tr th {\n",
       "        vertical-align: top;\n",
       "    }\n",
       "\n",
       "    .dataframe thead th {\n",
       "        text-align: right;\n",
       "    }\n",
       "</style>\n",
       "<table border=\"1\" class=\"dataframe\">\n",
       "  <thead>\n",
       "    <tr style=\"text-align: right;\">\n",
       "      <th></th>\n",
       "      <th>class_0</th>\n",
       "      <th>class_1</th>\n",
       "    </tr>\n",
       "  </thead>\n",
       "  <tbody>\n",
       "    <tr>\n",
       "      <th>0</th>\n",
       "      <td>1.0</td>\n",
       "      <td>0.0</td>\n",
       "    </tr>\n",
       "  </tbody>\n",
       "</table>\n",
       "</div>"
      ],
      "text/plain": [
       "   class_0  class_1\n",
       "0      1.0      0.0"
      ]
     },
     "execution_count": 9,
     "metadata": {},
     "output_type": "execute_result"
    }
   ],
   "source": [
    "#4.b. 1 for all the attributes with class 1\n",
    "\n",
    "predict_data_1 = np.array([[1.0,1.0,1.0,1.0]])\n",
    "#x_scaled21 = scaler.transform(predict_data_1)\n",
    "\n",
    "predict_df_class_1 = pd.DataFrame(predict_data_1, columns = ['variance', 'skewness', 'curtosis', 'entropy'])\n",
    "print(predict_df_class_1)   \n",
    "# predict_df_class_zero.drop('class', axis = 1, inplace = True)\n",
    "y_prob_class_1 = model.predict_probability(predict_df_class_1)\n",
    "y_prob_class_1"
   ]
  },
  {
   "cell_type": "code",
   "execution_count": null,
   "metadata": {},
   "outputs": [],
   "source": []
  }
 ],
 "metadata": {
  "accelerator": "GPU",
  "colab": {
   "collapsed_sections": [],
   "name": "BNN.ipynb",
   "provenance": []
  },
  "kernelspec": {
   "display_name": "Python 3",
   "language": "python",
   "name": "python3"
  },
  "language_info": {
   "codemirror_mode": {
    "name": "ipython",
    "version": 3
   },
   "file_extension": ".py",
   "mimetype": "text/x-python",
   "name": "python",
   "nbconvert_exporter": "python",
   "pygments_lexer": "ipython3",
   "version": "3.7.6"
  }
 },
 "nbformat": 4,
 "nbformat_minor": 1
}
